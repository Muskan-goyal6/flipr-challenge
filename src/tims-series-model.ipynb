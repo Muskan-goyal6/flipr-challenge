{
 "cells": [
  {
   "cell_type": "markdown",
   "metadata": {},
   "source": [
    "# 1. Dependencies"
   ]
  },
  {
   "cell_type": "code",
   "execution_count": 4,
   "metadata": {},
   "outputs": [],
   "source": [
    "import torch\n",
    "import numpy as np\n",
    "import pandas as pd"
   ]
  },
  {
   "cell_type": "markdown",
   "metadata": {},
   "source": [
    "# 2. Data Preprocessing and Pipeline"
   ]
  },
  {
   "cell_type": "code",
   "execution_count": 5,
   "metadata": {},
   "outputs": [],
   "source": [
    "train_df = pd.read_excel('./data/Train_dataset.xlsx', sheet_name='Diuresis_TS')"
   ]
  },
  {
   "cell_type": "code",
   "execution_count": 7,
   "metadata": {},
   "outputs": [
    {
     "name": "stdout",
     "output_type": "stream",
     "text": [
      "<class 'pandas.core.frame.DataFrame'>\n",
      "RangeIndex: 10714 entries, 0 to 10713\n",
      "Data columns (total 8 columns):\n",
      "people_ID              10714 non-null int64\n",
      "2020-03-20 00:00:00    10714 non-null int64\n",
      "2020-03-21 00:00:00    10714 non-null float64\n",
      "2020-03-22 00:00:00    10714 non-null float64\n",
      "2020-03-23 00:00:00    10714 non-null float64\n",
      "2020-03-24 00:00:00    10714 non-null float64\n",
      "2020-03-25 00:00:00    10714 non-null float64\n",
      "2020-03-26 00:00:00    10714 non-null float64\n",
      "dtypes: float64(6), int64(2)\n",
      "memory usage: 669.8 KB\n"
     ]
    }
   ],
   "source": [
    "train_df.info()"
   ]
  },
  {
   "cell_type": "code",
   "execution_count": 8,
   "metadata": {},
   "outputs": [
    {
     "data": {
      "text/html": [
       "<div>\n",
       "<style scoped>\n",
       "    .dataframe tbody tr th:only-of-type {\n",
       "        vertical-align: middle;\n",
       "    }\n",
       "\n",
       "    .dataframe tbody tr th {\n",
       "        vertical-align: top;\n",
       "    }\n",
       "\n",
       "    .dataframe thead th {\n",
       "        text-align: right;\n",
       "    }\n",
       "</style>\n",
       "<table border=\"1\" class=\"dataframe\">\n",
       "  <thead>\n",
       "    <tr style=\"text-align: right;\">\n",
       "      <th></th>\n",
       "      <th>people_ID</th>\n",
       "      <th>2020-03-20 00:00:00</th>\n",
       "      <th>2020-03-21 00:00:00</th>\n",
       "      <th>2020-03-22 00:00:00</th>\n",
       "      <th>2020-03-23 00:00:00</th>\n",
       "      <th>2020-03-24 00:00:00</th>\n",
       "      <th>2020-03-25 00:00:00</th>\n",
       "      <th>2020-03-26 00:00:00</th>\n",
       "    </tr>\n",
       "  </thead>\n",
       "  <tbody>\n",
       "    <tr>\n",
       "      <th>0</th>\n",
       "      <td>1</td>\n",
       "      <td>441</td>\n",
       "      <td>544.2</td>\n",
       "      <td>669.64</td>\n",
       "      <td>821.368</td>\n",
       "      <td>1002.2416</td>\n",
       "      <td>1215.68992</td>\n",
       "      <td>1472.627904</td>\n",
       "    </tr>\n",
       "    <tr>\n",
       "      <th>1</th>\n",
       "      <td>2</td>\n",
       "      <td>151</td>\n",
       "      <td>197.2</td>\n",
       "      <td>253.24</td>\n",
       "      <td>321.688</td>\n",
       "      <td>399.9256</td>\n",
       "      <td>492.91072</td>\n",
       "      <td>606.892864</td>\n",
       "    </tr>\n",
       "    <tr>\n",
       "      <th>2</th>\n",
       "      <td>3</td>\n",
       "      <td>416</td>\n",
       "      <td>515.2</td>\n",
       "      <td>632.44</td>\n",
       "      <td>776.728</td>\n",
       "      <td>947.7736</td>\n",
       "      <td>1150.32832</td>\n",
       "      <td>1395.793984</td>\n",
       "    </tr>\n",
       "    <tr>\n",
       "      <th>3</th>\n",
       "      <td>4</td>\n",
       "      <td>410</td>\n",
       "      <td>506.0</td>\n",
       "      <td>621.40</td>\n",
       "      <td>761.880</td>\n",
       "      <td>928.1560</td>\n",
       "      <td>1126.78720</td>\n",
       "      <td>1368.344640</td>\n",
       "    </tr>\n",
       "    <tr>\n",
       "      <th>4</th>\n",
       "      <td>5</td>\n",
       "      <td>390</td>\n",
       "      <td>483.0</td>\n",
       "      <td>595.00</td>\n",
       "      <td>730.200</td>\n",
       "      <td>892.8400</td>\n",
       "      <td>1084.40800</td>\n",
       "      <td>1315.889600</td>\n",
       "    </tr>\n",
       "  </tbody>\n",
       "</table>\n",
       "</div>"
      ],
      "text/plain": [
       "   people_ID  2020-03-20 00:00:00  2020-03-21 00:00:00  2020-03-22 00:00:00  \\\n",
       "0          1                  441                544.2               669.64   \n",
       "1          2                  151                197.2               253.24   \n",
       "2          3                  416                515.2               632.44   \n",
       "3          4                  410                506.0               621.40   \n",
       "4          5                  390                483.0               595.00   \n",
       "\n",
       "   2020-03-23 00:00:00  2020-03-24 00:00:00  2020-03-25 00:00:00  \\\n",
       "0              821.368            1002.2416           1215.68992   \n",
       "1              321.688             399.9256            492.91072   \n",
       "2              776.728             947.7736           1150.32832   \n",
       "3              761.880             928.1560           1126.78720   \n",
       "4              730.200             892.8400           1084.40800   \n",
       "\n",
       "   2020-03-26 00:00:00  \n",
       "0          1472.627904  \n",
       "1           606.892864  \n",
       "2          1395.793984  \n",
       "3          1368.344640  \n",
       "4          1315.889600  "
      ]
     },
     "execution_count": 8,
     "metadata": {},
     "output_type": "execute_result"
    }
   ],
   "source": [
    "train_df.head()"
   ]
  },
  {
   "cell_type": "code",
   "execution_count": null,
   "metadata": {},
   "outputs": [],
   "source": [
    "head"
   ]
  }
 ],
 "metadata": {
  "kernelspec": {
   "display_name": "Python 3.7.0 64-bit",
   "language": "python",
   "name": "python37064bitcdd344d0df034a7395ad747f8a4214da"
  },
  "language_info": {
   "codemirror_mode": {
    "name": "ipython",
    "version": 3
   },
   "file_extension": ".py",
   "mimetype": "text/x-python",
   "name": "python",
   "nbconvert_exporter": "python",
   "pygments_lexer": "ipython3",
   "version": "3.7.0"
  }
 },
 "nbformat": 4,
 "nbformat_minor": 4
}
