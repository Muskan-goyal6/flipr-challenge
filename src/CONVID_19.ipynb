{
 "cells": [
  {
   "cell_type": "code",
   "execution_count": null,
   "metadata": {
    "colab": {},
    "colab_type": "code",
    "id": "QSx8lvM48dEg"
   },
   "outputs": [],
   "source": [
    "import numpy as np\n",
    "import pandas as pd"
   ]
  },
  {
   "cell_type": "code",
   "execution_count": null,
   "metadata": {
    "colab": {},
    "colab_type": "code",
    "id": "CgBYKiLN9XNs"
   },
   "outputs": [],
   "source": [
    "data = pd.read_excel(\"/content/drive/My Drive/Corona/Train_dataset (1).xlsx\",sheet_name='Train_dataset')"
   ]
  },
  {
   "cell_type": "code",
   "execution_count": null,
   "metadata": {
    "colab": {
     "base_uri": "https://localhost:8080/",
     "height": 292
    },
    "colab_type": "code",
    "id": "qc3TBN47A9gz",
    "outputId": "8d85c98e-d8bc-4734-f14e-35a82f731c6f"
   },
   "outputs": [
    {
     "data": {
      "text/html": [
       "<div>\n",
       "<style scoped>\n",
       "    .dataframe tbody tr th:only-of-type {\n",
       "        vertical-align: middle;\n",
       "    }\n",
       "\n",
       "    .dataframe tbody tr th {\n",
       "        vertical-align: top;\n",
       "    }\n",
       "\n",
       "    .dataframe thead th {\n",
       "        text-align: right;\n",
       "    }\n",
       "</style>\n",
       "<table border=\"1\" class=\"dataframe\">\n",
       "  <thead>\n",
       "    <tr style=\"text-align: right;\">\n",
       "      <th></th>\n",
       "      <th>people_ID</th>\n",
       "      <th>Region</th>\n",
       "      <th>Gender</th>\n",
       "      <th>Designation</th>\n",
       "      <th>Name</th>\n",
       "      <th>Married</th>\n",
       "      <th>Children</th>\n",
       "      <th>Occupation</th>\n",
       "      <th>Mode_transport</th>\n",
       "      <th>cases/1M</th>\n",
       "      <th>Deaths/1M</th>\n",
       "      <th>comorbidity</th>\n",
       "      <th>Age</th>\n",
       "      <th>Coma score</th>\n",
       "      <th>Pulmonary score</th>\n",
       "      <th>cardiological pressure</th>\n",
       "      <th>Diuresis</th>\n",
       "      <th>Platelets</th>\n",
       "      <th>HBB</th>\n",
       "      <th>d-dimer</th>\n",
       "      <th>Heart rate</th>\n",
       "      <th>HDL cholesterol</th>\n",
       "      <th>Charlson Index</th>\n",
       "      <th>Blood Glucose</th>\n",
       "      <th>Insurance</th>\n",
       "      <th>salary</th>\n",
       "      <th>FT/month</th>\n",
       "      <th>Infect_Prob</th>\n",
       "    </tr>\n",
       "  </thead>\n",
       "  <tbody>\n",
       "    <tr>\n",
       "      <th>0</th>\n",
       "      <td>1</td>\n",
       "      <td>Bhubaneshwar</td>\n",
       "      <td>Female</td>\n",
       "      <td>Mrs</td>\n",
       "      <td>mansi</td>\n",
       "      <td>YES</td>\n",
       "      <td>1.0</td>\n",
       "      <td>Farmer</td>\n",
       "      <td>Public</td>\n",
       "      <td>2</td>\n",
       "      <td>0</td>\n",
       "      <td>Hypertension</td>\n",
       "      <td>68</td>\n",
       "      <td>8</td>\n",
       "      <td>&lt;400</td>\n",
       "      <td>Normal</td>\n",
       "      <td>441.0</td>\n",
       "      <td>154.0</td>\n",
       "      <td>93.0</td>\n",
       "      <td>233.0</td>\n",
       "      <td>82.0</td>\n",
       "      <td>58.0</td>\n",
       "      <td>27</td>\n",
       "      <td>7</td>\n",
       "      <td>3600000.0</td>\n",
       "      <td>1300000</td>\n",
       "      <td>2.0</td>\n",
       "      <td>49.135010</td>\n",
       "    </tr>\n",
       "    <tr>\n",
       "      <th>1</th>\n",
       "      <td>2</td>\n",
       "      <td>Bhubaneshwar</td>\n",
       "      <td>Female</td>\n",
       "      <td>Mrs</td>\n",
       "      <td>riya masi</td>\n",
       "      <td>YES</td>\n",
       "      <td>2.0</td>\n",
       "      <td>Farmer</td>\n",
       "      <td>Walk</td>\n",
       "      <td>2</td>\n",
       "      <td>0</td>\n",
       "      <td>Diabetes</td>\n",
       "      <td>64</td>\n",
       "      <td>15</td>\n",
       "      <td>&lt;100</td>\n",
       "      <td>Stage-02</td>\n",
       "      <td>NaN</td>\n",
       "      <td>121.0</td>\n",
       "      <td>56.0</td>\n",
       "      <td>328.0</td>\n",
       "      <td>89.0</td>\n",
       "      <td>68.0</td>\n",
       "      <td>5</td>\n",
       "      <td>6</td>\n",
       "      <td>1600000.0</td>\n",
       "      <td>400000</td>\n",
       "      <td>1.0</td>\n",
       "      <td>51.147880</td>\n",
       "    </tr>\n",
       "    <tr>\n",
       "      <th>2</th>\n",
       "      <td>3</td>\n",
       "      <td>Bhubaneshwar</td>\n",
       "      <td>Female</td>\n",
       "      <td>Mrs</td>\n",
       "      <td>sunita</td>\n",
       "      <td>NO</td>\n",
       "      <td>1.0</td>\n",
       "      <td>Cleaner</td>\n",
       "      <td>Public</td>\n",
       "      <td>2</td>\n",
       "      <td>0</td>\n",
       "      <td>None</td>\n",
       "      <td>19</td>\n",
       "      <td>13</td>\n",
       "      <td>&lt;300</td>\n",
       "      <td>Elevated</td>\n",
       "      <td>416.0</td>\n",
       "      <td>124.0</td>\n",
       "      <td>137.0</td>\n",
       "      <td>213.0</td>\n",
       "      <td>77.0</td>\n",
       "      <td>43.0</td>\n",
       "      <td>40</td>\n",
       "      <td>6</td>\n",
       "      <td>3400000.0</td>\n",
       "      <td>900000</td>\n",
       "      <td>1.0</td>\n",
       "      <td>73.224000</td>\n",
       "    </tr>\n",
       "    <tr>\n",
       "      <th>3</th>\n",
       "      <td>4</td>\n",
       "      <td>Bhubaneshwar</td>\n",
       "      <td>Female</td>\n",
       "      <td>Mrs</td>\n",
       "      <td>anjali @ babli</td>\n",
       "      <td>YES</td>\n",
       "      <td>1.0</td>\n",
       "      <td>Driver</td>\n",
       "      <td>Car</td>\n",
       "      <td>2</td>\n",
       "      <td>0</td>\n",
       "      <td>Coronary Heart Disease</td>\n",
       "      <td>33</td>\n",
       "      <td>9</td>\n",
       "      <td>&lt;200</td>\n",
       "      <td>Stage-01</td>\n",
       "      <td>410.0</td>\n",
       "      <td>98.0</td>\n",
       "      <td>167.0</td>\n",
       "      <td>275.0</td>\n",
       "      <td>64.0</td>\n",
       "      <td>60.0</td>\n",
       "      <td>27</td>\n",
       "      <td>7</td>\n",
       "      <td>700000.0</td>\n",
       "      <td>2300000</td>\n",
       "      <td>1.0</td>\n",
       "      <td>48.779225</td>\n",
       "    </tr>\n",
       "    <tr>\n",
       "      <th>4</th>\n",
       "      <td>5</td>\n",
       "      <td>Bhubaneshwar</td>\n",
       "      <td>Female</td>\n",
       "      <td>Mrs</td>\n",
       "      <td>champa karketta</td>\n",
       "      <td>NO</td>\n",
       "      <td>2.0</td>\n",
       "      <td>Manufacturing</td>\n",
       "      <td>Car</td>\n",
       "      <td>2</td>\n",
       "      <td>0</td>\n",
       "      <td>Diabetes</td>\n",
       "      <td>23</td>\n",
       "      <td>7</td>\n",
       "      <td>&lt;400</td>\n",
       "      <td>Normal</td>\n",
       "      <td>390.0</td>\n",
       "      <td>21.0</td>\n",
       "      <td>153.0</td>\n",
       "      <td>331.0</td>\n",
       "      <td>71.0</td>\n",
       "      <td>64.0</td>\n",
       "      <td>32</td>\n",
       "      <td>7</td>\n",
       "      <td>3200000.0</td>\n",
       "      <td>1100000</td>\n",
       "      <td>1.0</td>\n",
       "      <td>87.868800</td>\n",
       "    </tr>\n",
       "  </tbody>\n",
       "</table>\n",
       "</div>"
      ],
      "text/plain": [
       "   people_ID        Region  Gender  ...   salary FT/month Infect_Prob\n",
       "0          1  Bhubaneshwar  Female  ...  1300000      2.0   49.135010\n",
       "1          2  Bhubaneshwar  Female  ...   400000      1.0   51.147880\n",
       "2          3  Bhubaneshwar  Female  ...   900000      1.0   73.224000\n",
       "3          4  Bhubaneshwar  Female  ...  2300000      1.0   48.779225\n",
       "4          5  Bhubaneshwar  Female  ...  1100000      1.0   87.868800\n",
       "\n",
       "[5 rows x 28 columns]"
      ]
     },
     "execution_count": 238,
     "metadata": {
      "tags": []
     },
     "output_type": "execute_result"
    }
   ],
   "source": [
    "data.head()"
   ]
  },
  {
   "cell_type": "markdown",
   "metadata": {
    "colab_type": "text",
    "id": "9oTkIsjTmxlq"
   },
   "source": [
    "## Drop unnecessary columns"
   ]
  },
  {
   "cell_type": "code",
   "execution_count": null,
   "metadata": {
    "colab": {},
    "colab_type": "code",
    "id": "zbLxC_6UH7Oc"
   },
   "outputs": [],
   "source": [
    "columns_to_drop = [\"Designation\",\"Name\",\"Insurance\",\"salary\",\"people_ID\"]"
   ]
  },
  {
   "cell_type": "code",
   "execution_count": null,
   "metadata": {
    "colab": {},
    "colab_type": "code",
    "id": "rH3chXFGIrFu"
   },
   "outputs": [],
   "source": [
    "data_clean = data.drop(columns_to_drop,axis=1)"
   ]
  },
  {
   "cell_type": "code",
   "execution_count": null,
   "metadata": {
    "colab": {},
    "colab_type": "code",
    "id": "TR94GcfMQATF"
   },
   "outputs": [],
   "source": [
    "#data_clean = data_clean.apply(lambda col: le.fit_transform(col.astype(str)))"
   ]
  },
  {
   "cell_type": "code",
   "execution_count": 4,
   "metadata": {
    "colab": {
     "base_uri": "https://localhost:8080/",
     "height": 808
    },
    "colab_type": "code",
    "id": "1JW27jagIugd",
    "outputId": "f34833c0-1906-40d6-c0bc-296f6be90b78"
   },
   "outputs": [],
   "source": [
    "data_clean.head(n=10);"
   ]
  },
  {
   "cell_type": "code",
   "execution_count": null,
   "metadata": {
    "colab": {
     "base_uri": "https://localhost:8080/",
     "height": 493
    },
    "colab_type": "code",
    "id": "ourR0yJvOu_4",
    "outputId": "9045c70d-6308-4559-961a-38dfec139df4"
   },
   "outputs": [
    {
     "name": "stdout",
     "output_type": "stream",
     "text": [
      "<class 'pandas.core.frame.DataFrame'>\n",
      "RangeIndex: 10714 entries, 0 to 10713\n",
      "Data columns (total 23 columns):\n",
      "Region                    10714 non-null object\n",
      "Gender                    10714 non-null object\n",
      "Married                   10714 non-null object\n",
      "Children                  10403 non-null float64\n",
      "Occupation                9967 non-null object\n",
      "Mode_transport            10711 non-null object\n",
      "cases/1M                  10714 non-null int64\n",
      "Deaths/1M                 10714 non-null int64\n",
      "comorbidity               10488 non-null object\n",
      "Age                       10714 non-null int64\n",
      "Coma score                10714 non-null int64\n",
      "Pulmonary score           10714 non-null object\n",
      "cardiological pressure    10617 non-null object\n",
      "Diuresis                  9998 non-null float64\n",
      "Platelets                 9790 non-null float64\n",
      "HBB                       10698 non-null float64\n",
      "d-dimer                   9600 non-null float64\n",
      "Heart rate                9600 non-null float64\n",
      "HDL cholesterol           10679 non-null float64\n",
      "Charlson Index            10714 non-null int64\n",
      "Blood Glucose             10714 non-null int64\n",
      "FT/month                  9991 non-null float64\n",
      "Infect_Prob               10714 non-null float64\n",
      "dtypes: float64(9), int64(6), object(8)\n",
      "memory usage: 1.9+ MB\n"
     ]
    }
   ],
   "source": [
    "data_clean.info()"
   ]
  },
  {
   "cell_type": "markdown",
   "metadata": {
    "colab_type": "text",
    "id": "ilXKn7oSm-qc"
   },
   "source": [
    "## Finding the number of NA values in each column"
   ]
  },
  {
   "cell_type": "code",
   "execution_count": null,
   "metadata": {
    "colab": {
     "base_uri": "https://localhost:8080/",
     "height": 425
    },
    "colab_type": "code",
    "id": "2tfwBCExKeU3",
    "outputId": "be62e68f-fe9c-4b89-cd5b-e4e5ae305387"
   },
   "outputs": [
    {
     "data": {
      "text/plain": [
       "Region                    0\n",
       "Gender                    0\n",
       "Married                   0\n",
       "Children                  0\n",
       "Occupation                0\n",
       "Mode_transport            0\n",
       "cases/1M                  0\n",
       "Deaths/1M                 0\n",
       "comorbidity               0\n",
       "Age                       0\n",
       "Coma score                0\n",
       "Pulmonary score           0\n",
       "cardiological pressure    0\n",
       "Diuresis                  0\n",
       "Platelets                 0\n",
       "HBB                       0\n",
       "d-dimer                   0\n",
       "Heart rate                0\n",
       "HDL cholesterol           0\n",
       "Charlson Index            0\n",
       "Blood Glucose             0\n",
       "FT/month                  0\n",
       "Infect_Prob               0\n",
       "dtype: int64"
      ]
     },
     "execution_count": 265,
     "metadata": {
      "tags": []
     },
     "output_type": "execute_result"
    }
   ],
   "source": [
    "data_clean.isna().sum()"
   ]
  },
  {
   "cell_type": "markdown",
   "metadata": {
    "colab_type": "text",
    "id": "GZLGbfm7nTRG"
   },
   "source": [
    "## Filling NA values with 0 in children column and None in object columns"
   ]
  },
  {
   "cell_type": "code",
   "execution_count": null,
   "metadata": {
    "colab": {},
    "colab_type": "code",
    "id": "QFnAuDmdV9Da"
   },
   "outputs": [],
   "source": [
    "data_clean[['Children']] = data_clean[['Children']].fillna(value=0)"
   ]
  },
  {
   "cell_type": "code",
   "execution_count": null,
   "metadata": {
    "colab": {},
    "colab_type": "code",
    "id": "i5kpWY5XW4UY"
   },
   "outputs": [],
   "source": [
    "data_clean['Occupation'].fillna(\"no info\", inplace=True)\n",
    "data_clean['comorbidity'].fillna(\"None\", inplace=True)\n",
    "data_clean['Mode_transport'].fillna(\"None\", inplace=True)\n",
    "data_clean['cardiological pressure'].fillna(\"None\", inplace=True)"
   ]
  },
  {
   "cell_type": "markdown",
   "metadata": {
    "colab_type": "text",
    "id": "9b2b8go4ndkL"
   },
   "source": [
    "## Filling mean values in float columns"
   ]
  },
  {
   "cell_type": "code",
   "execution_count": null,
   "metadata": {
    "colab": {},
    "colab_type": "code",
    "id": "BWiIIVw4XElG"
   },
   "outputs": [],
   "source": [
    "data_clean['Diuresis'].fillna(data_clean['Diuresis'].mean(), inplace=True)\n",
    "data_clean['Platelets'].fillna(data_clean['Platelets'].mean(), inplace=True)\n",
    "data_clean['d-dimer'].fillna(data_clean['d-dimer'].mean(), inplace=True)\n",
    "data_clean['Heart rate'].fillna(data_clean['Heart rate'].mean(), inplace=True)\n",
    "data_clean['FT/month'].fillna(data_clean['FT/month'].mean(), inplace=True)\n",
    "data_clean['HDL cholesterol'].fillna(data_clean['HDL cholesterol'].mean(), inplace=True)\n",
    "data_clean['HBB'].fillna(data_clean['HBB'].mean(), inplace=True)"
   ]
  },
  {
   "cell_type": "markdown",
   "metadata": {
    "colab_type": "text",
    "id": "iFjOsozrnpE7"
   },
   "source": [
    "## Removing duplicate columns if any"
   ]
  },
  {
   "cell_type": "code",
   "execution_count": null,
   "metadata": {
    "colab": {
     "base_uri": "https://localhost:8080/",
     "height": 34
    },
    "colab_type": "code",
    "id": "7L2EBZ5PYSgu",
    "outputId": "81fe23ea-0773-4ede-dab3-1edf501592f2"
   },
   "outputs": [
    {
     "name": "stdout",
     "output_type": "stream",
     "text": [
      "(0, 23)\n"
     ]
    }
   ],
   "source": [
    "duplicate_rows_df = data_clean[data_clean.duplicated()]\n",
    "print(duplicate_rows_df.shape)"
   ]
  },
  {
   "cell_type": "code",
   "execution_count": null,
   "metadata": {
    "colab": {
     "base_uri": "https://localhost:8080/",
     "height": 493
    },
    "colab_type": "code",
    "id": "ZrpV6dZSjChm",
    "outputId": "a47c409e-d0d5-4625-97c2-04ec8c124667"
   },
   "outputs": [
    {
     "name": "stdout",
     "output_type": "stream",
     "text": [
      "<class 'pandas.core.frame.DataFrame'>\n",
      "RangeIndex: 10714 entries, 0 to 10713\n",
      "Data columns (total 23 columns):\n",
      "Region                    10714 non-null int64\n",
      "Gender                    10714 non-null int64\n",
      "Married                   10714 non-null int64\n",
      "Children                  10714 non-null float64\n",
      "Occupation                10714 non-null int64\n",
      "Mode_transport            10714 non-null object\n",
      "cases/1M                  10714 non-null int64\n",
      "Deaths/1M                 10714 non-null int64\n",
      "comorbidity               10714 non-null int64\n",
      "Age                       10714 non-null int64\n",
      "Coma score                10714 non-null int64\n",
      "Pulmonary score           10714 non-null int64\n",
      "cardiological pressure    10714 non-null object\n",
      "Diuresis                  10714 non-null float64\n",
      "Platelets                 10714 non-null float64\n",
      "HBB                       10714 non-null float64\n",
      "d-dimer                   10714 non-null float64\n",
      "Heart rate                10714 non-null float64\n",
      "HDL cholesterol           10714 non-null float64\n",
      "Charlson Index            10714 non-null int64\n",
      "Blood Glucose             10714 non-null int64\n",
      "FT/month                  10714 non-null float64\n",
      "Infect_Prob               10714 non-null float64\n",
      "dtypes: float64(9), int64(12), object(2)\n",
      "memory usage: 1.9+ MB\n"
     ]
    }
   ],
   "source": [
    "data_clean.info()"
   ]
  },
  {
   "cell_type": "markdown",
   "metadata": {
    "colab_type": "text",
    "id": "ReDeaGJinxR1"
   },
   "source": [
    "## Label encoding the object columns"
   ]
  },
  {
   "cell_type": "code",
   "execution_count": null,
   "metadata": {
    "colab": {},
    "colab_type": "code",
    "id": "cHdWDMA-gzD4"
   },
   "outputs": [],
   "source": [
    "from sklearn.preprocessing import LabelEncoder\n",
    "\n",
    "le = LabelEncoder()\n",
    "\n",
    "data_clean[\"Gender\"] = le.fit_transform(data_clean[\"Gender\"])\n",
    "data_clean[\"Region\"] = le.fit_transform(data_clean[\"Region\"])\n",
    "data_clean[\"Married\"] = le.fit_transform(data_clean[\"Married\"])\n",
    "data_clean[\"Occupation\"] = le.fit_transform(data_clean[\"Occupation\"])\n",
    "data_clean[\"Mode_transport\"] = le.fit_transform(data_clean[\"Mode_transport\"])\n",
    "data_clean[\"comorbidity\"] = le.fit_transform(data_clean[\"comorbidity\"])\n",
    "data_clean[\"Pulmonary score\"] = le.fit_transform(data_clean[\"Pulmonary score\"])\n",
    "data_clean[\"cardiological pressure\"] = le.fit_transform(data_clean[\"cardiological pressure\"])"
   ]
  },
  {
   "cell_type": "code",
   "execution_count": null,
   "metadata": {
    "colab": {
     "base_uri": "https://localhost:8080/",
     "height": 425
    },
    "colab_type": "code",
    "id": "JkFwL5KiiZ2u",
    "outputId": "8a053a44-6c4b-4505-eb6c-82edbcb6fa60"
   },
   "outputs": [
    {
     "data": {
      "text/plain": [
       "Region                    0\n",
       "Gender                    0\n",
       "Married                   0\n",
       "Children                  0\n",
       "Occupation                0\n",
       "Mode_transport            0\n",
       "cases/1M                  0\n",
       "Deaths/1M                 0\n",
       "comorbidity               0\n",
       "Age                       0\n",
       "Coma score                0\n",
       "Pulmonary score           0\n",
       "cardiological pressure    0\n",
       "Diuresis                  0\n",
       "Platelets                 0\n",
       "HBB                       0\n",
       "d-dimer                   0\n",
       "Heart rate                0\n",
       "HDL cholesterol           0\n",
       "Charlson Index            0\n",
       "Blood Glucose             0\n",
       "FT/month                  0\n",
       "Infect_Prob               0\n",
       "dtype: int64"
      ]
     },
     "execution_count": 263,
     "metadata": {
      "tags": []
     },
     "output_type": "execute_result"
    }
   ],
   "source": [
    "data_clean.isna().sum()"
   ]
  },
  {
   "cell_type": "code",
   "execution_count": null,
   "metadata": {
    "colab": {
     "base_uri": "https://localhost:8080/",
     "height": 456
    },
    "colab_type": "code",
    "id": "lELv5YaAlaMP",
    "outputId": "bcda5b52-08f0-4ec3-9a1e-a32886100b63"
   },
   "outputs": [
    {
     "data": {
      "text/html": [
       "<div>\n",
       "<style scoped>\n",
       "    .dataframe tbody tr th:only-of-type {\n",
       "        vertical-align: middle;\n",
       "    }\n",
       "\n",
       "    .dataframe tbody tr th {\n",
       "        vertical-align: top;\n",
       "    }\n",
       "\n",
       "    .dataframe thead th {\n",
       "        text-align: right;\n",
       "    }\n",
       "</style>\n",
       "<table border=\"1\" class=\"dataframe\">\n",
       "  <thead>\n",
       "    <tr style=\"text-align: right;\">\n",
       "      <th></th>\n",
       "      <th>Region</th>\n",
       "      <th>Gender</th>\n",
       "      <th>Married</th>\n",
       "      <th>Children</th>\n",
       "      <th>Occupation</th>\n",
       "      <th>Mode_transport</th>\n",
       "      <th>cases/1M</th>\n",
       "      <th>Deaths/1M</th>\n",
       "      <th>comorbidity</th>\n",
       "      <th>Age</th>\n",
       "      <th>Coma score</th>\n",
       "      <th>Pulmonary score</th>\n",
       "      <th>cardiological pressure</th>\n",
       "      <th>Diuresis</th>\n",
       "      <th>Platelets</th>\n",
       "      <th>HBB</th>\n",
       "      <th>d-dimer</th>\n",
       "      <th>Heart rate</th>\n",
       "      <th>HDL cholesterol</th>\n",
       "      <th>Charlson Index</th>\n",
       "      <th>Blood Glucose</th>\n",
       "      <th>FT/month</th>\n",
       "      <th>Infect_Prob</th>\n",
       "    </tr>\n",
       "  </thead>\n",
       "  <tbody>\n",
       "    <tr>\n",
       "      <th>0</th>\n",
       "      <td>1</td>\n",
       "      <td>0</td>\n",
       "      <td>1</td>\n",
       "      <td>1.0</td>\n",
       "      <td>4</td>\n",
       "      <td>2</td>\n",
       "      <td>2</td>\n",
       "      <td>0</td>\n",
       "      <td>2</td>\n",
       "      <td>68</td>\n",
       "      <td>8</td>\n",
       "      <td>3</td>\n",
       "      <td>2</td>\n",
       "      <td>441.000000</td>\n",
       "      <td>154.0</td>\n",
       "      <td>93.0</td>\n",
       "      <td>233.0</td>\n",
       "      <td>82.0</td>\n",
       "      <td>58.0</td>\n",
       "      <td>27</td>\n",
       "      <td>7</td>\n",
       "      <td>2.000000</td>\n",
       "      <td>49.135010</td>\n",
       "    </tr>\n",
       "    <tr>\n",
       "      <th>1</th>\n",
       "      <td>1</td>\n",
       "      <td>0</td>\n",
       "      <td>1</td>\n",
       "      <td>2.0</td>\n",
       "      <td>4</td>\n",
       "      <td>3</td>\n",
       "      <td>2</td>\n",
       "      <td>0</td>\n",
       "      <td>1</td>\n",
       "      <td>64</td>\n",
       "      <td>15</td>\n",
       "      <td>0</td>\n",
       "      <td>4</td>\n",
       "      <td>278.806261</td>\n",
       "      <td>121.0</td>\n",
       "      <td>56.0</td>\n",
       "      <td>328.0</td>\n",
       "      <td>89.0</td>\n",
       "      <td>68.0</td>\n",
       "      <td>5</td>\n",
       "      <td>6</td>\n",
       "      <td>1.000000</td>\n",
       "      <td>51.147880</td>\n",
       "    </tr>\n",
       "    <tr>\n",
       "      <th>2</th>\n",
       "      <td>1</td>\n",
       "      <td>0</td>\n",
       "      <td>0</td>\n",
       "      <td>1.0</td>\n",
       "      <td>1</td>\n",
       "      <td>2</td>\n",
       "      <td>2</td>\n",
       "      <td>0</td>\n",
       "      <td>3</td>\n",
       "      <td>19</td>\n",
       "      <td>13</td>\n",
       "      <td>2</td>\n",
       "      <td>0</td>\n",
       "      <td>416.000000</td>\n",
       "      <td>124.0</td>\n",
       "      <td>137.0</td>\n",
       "      <td>213.0</td>\n",
       "      <td>77.0</td>\n",
       "      <td>43.0</td>\n",
       "      <td>40</td>\n",
       "      <td>6</td>\n",
       "      <td>1.000000</td>\n",
       "      <td>73.224000</td>\n",
       "    </tr>\n",
       "    <tr>\n",
       "      <th>3</th>\n",
       "      <td>1</td>\n",
       "      <td>0</td>\n",
       "      <td>1</td>\n",
       "      <td>1.0</td>\n",
       "      <td>3</td>\n",
       "      <td>0</td>\n",
       "      <td>2</td>\n",
       "      <td>0</td>\n",
       "      <td>0</td>\n",
       "      <td>33</td>\n",
       "      <td>9</td>\n",
       "      <td>1</td>\n",
       "      <td>3</td>\n",
       "      <td>410.000000</td>\n",
       "      <td>98.0</td>\n",
       "      <td>167.0</td>\n",
       "      <td>275.0</td>\n",
       "      <td>64.0</td>\n",
       "      <td>60.0</td>\n",
       "      <td>27</td>\n",
       "      <td>7</td>\n",
       "      <td>1.000000</td>\n",
       "      <td>48.779225</td>\n",
       "    </tr>\n",
       "    <tr>\n",
       "      <th>4</th>\n",
       "      <td>1</td>\n",
       "      <td>0</td>\n",
       "      <td>0</td>\n",
       "      <td>2.0</td>\n",
       "      <td>6</td>\n",
       "      <td>0</td>\n",
       "      <td>2</td>\n",
       "      <td>0</td>\n",
       "      <td>1</td>\n",
       "      <td>23</td>\n",
       "      <td>7</td>\n",
       "      <td>3</td>\n",
       "      <td>2</td>\n",
       "      <td>390.000000</td>\n",
       "      <td>21.0</td>\n",
       "      <td>153.0</td>\n",
       "      <td>331.0</td>\n",
       "      <td>71.0</td>\n",
       "      <td>64.0</td>\n",
       "      <td>32</td>\n",
       "      <td>7</td>\n",
       "      <td>1.000000</td>\n",
       "      <td>87.868800</td>\n",
       "    </tr>\n",
       "    <tr>\n",
       "      <th>...</th>\n",
       "      <td>...</td>\n",
       "      <td>...</td>\n",
       "      <td>...</td>\n",
       "      <td>...</td>\n",
       "      <td>...</td>\n",
       "      <td>...</td>\n",
       "      <td>...</td>\n",
       "      <td>...</td>\n",
       "      <td>...</td>\n",
       "      <td>...</td>\n",
       "      <td>...</td>\n",
       "      <td>...</td>\n",
       "      <td>...</td>\n",
       "      <td>...</td>\n",
       "      <td>...</td>\n",
       "      <td>...</td>\n",
       "      <td>...</td>\n",
       "      <td>...</td>\n",
       "      <td>...</td>\n",
       "      <td>...</td>\n",
       "      <td>...</td>\n",
       "      <td>...</td>\n",
       "      <td>...</td>\n",
       "    </tr>\n",
       "    <tr>\n",
       "      <th>10709</th>\n",
       "      <td>0</td>\n",
       "      <td>1</td>\n",
       "      <td>0</td>\n",
       "      <td>2.0</td>\n",
       "      <td>0</td>\n",
       "      <td>0</td>\n",
       "      <td>8</td>\n",
       "      <td>2</td>\n",
       "      <td>1</td>\n",
       "      <td>20</td>\n",
       "      <td>14</td>\n",
       "      <td>3</td>\n",
       "      <td>2</td>\n",
       "      <td>134.000000</td>\n",
       "      <td>67.0</td>\n",
       "      <td>24.0</td>\n",
       "      <td>209.0</td>\n",
       "      <td>61.0</td>\n",
       "      <td>56.0</td>\n",
       "      <td>35</td>\n",
       "      <td>7</td>\n",
       "      <td>0.000000</td>\n",
       "      <td>41.981760</td>\n",
       "    </tr>\n",
       "    <tr>\n",
       "      <th>10710</th>\n",
       "      <td>0</td>\n",
       "      <td>1</td>\n",
       "      <td>1</td>\n",
       "      <td>0.0</td>\n",
       "      <td>6</td>\n",
       "      <td>0</td>\n",
       "      <td>8</td>\n",
       "      <td>2</td>\n",
       "      <td>3</td>\n",
       "      <td>42</td>\n",
       "      <td>4</td>\n",
       "      <td>3</td>\n",
       "      <td>2</td>\n",
       "      <td>387.000000</td>\n",
       "      <td>102.0</td>\n",
       "      <td>134.0</td>\n",
       "      <td>211.0</td>\n",
       "      <td>65.0</td>\n",
       "      <td>47.0</td>\n",
       "      <td>35</td>\n",
       "      <td>7</td>\n",
       "      <td>1.004604</td>\n",
       "      <td>47.148663</td>\n",
       "    </tr>\n",
       "    <tr>\n",
       "      <th>10711</th>\n",
       "      <td>0</td>\n",
       "      <td>1</td>\n",
       "      <td>1</td>\n",
       "      <td>0.0</td>\n",
       "      <td>2</td>\n",
       "      <td>2</td>\n",
       "      <td>8</td>\n",
       "      <td>2</td>\n",
       "      <td>1</td>\n",
       "      <td>59</td>\n",
       "      <td>3</td>\n",
       "      <td>0</td>\n",
       "      <td>4</td>\n",
       "      <td>177.000000</td>\n",
       "      <td>111.0</td>\n",
       "      <td>151.0</td>\n",
       "      <td>296.0</td>\n",
       "      <td>87.0</td>\n",
       "      <td>37.0</td>\n",
       "      <td>16</td>\n",
       "      <td>5</td>\n",
       "      <td>2.000000</td>\n",
       "      <td>47.708533</td>\n",
       "    </tr>\n",
       "    <tr>\n",
       "      <th>10712</th>\n",
       "      <td>0</td>\n",
       "      <td>1</td>\n",
       "      <td>1</td>\n",
       "      <td>1.0</td>\n",
       "      <td>5</td>\n",
       "      <td>3</td>\n",
       "      <td>8</td>\n",
       "      <td>2</td>\n",
       "      <td>0</td>\n",
       "      <td>49</td>\n",
       "      <td>6</td>\n",
       "      <td>2</td>\n",
       "      <td>0</td>\n",
       "      <td>352.000000</td>\n",
       "      <td>140.0</td>\n",
       "      <td>110.0</td>\n",
       "      <td>253.0</td>\n",
       "      <td>56.0</td>\n",
       "      <td>70.0</td>\n",
       "      <td>28</td>\n",
       "      <td>5</td>\n",
       "      <td>1.000000</td>\n",
       "      <td>53.803565</td>\n",
       "    </tr>\n",
       "    <tr>\n",
       "      <th>10713</th>\n",
       "      <td>0</td>\n",
       "      <td>1</td>\n",
       "      <td>0</td>\n",
       "      <td>2.0</td>\n",
       "      <td>0</td>\n",
       "      <td>0</td>\n",
       "      <td>8</td>\n",
       "      <td>2</td>\n",
       "      <td>1</td>\n",
       "      <td>17</td>\n",
       "      <td>7</td>\n",
       "      <td>3</td>\n",
       "      <td>2</td>\n",
       "      <td>181.000000</td>\n",
       "      <td>65.0</td>\n",
       "      <td>134.0</td>\n",
       "      <td>201.0</td>\n",
       "      <td>82.0</td>\n",
       "      <td>60.0</td>\n",
       "      <td>4</td>\n",
       "      <td>3</td>\n",
       "      <td>0.000000</td>\n",
       "      <td>68.342400</td>\n",
       "    </tr>\n",
       "  </tbody>\n",
       "</table>\n",
       "<p>10714 rows × 23 columns</p>\n",
       "</div>"
      ],
      "text/plain": [
       "       Region  Gender  Married  ...  Blood Glucose  FT/month  Infect_Prob\n",
       "0           1       0        1  ...              7  2.000000    49.135010\n",
       "1           1       0        1  ...              6  1.000000    51.147880\n",
       "2           1       0        0  ...              6  1.000000    73.224000\n",
       "3           1       0        1  ...              7  1.000000    48.779225\n",
       "4           1       0        0  ...              7  1.000000    87.868800\n",
       "...       ...     ...      ...  ...            ...       ...          ...\n",
       "10709       0       1        0  ...              7  0.000000    41.981760\n",
       "10710       0       1        1  ...              7  1.004604    47.148663\n",
       "10711       0       1        1  ...              5  2.000000    47.708533\n",
       "10712       0       1        1  ...              5  1.000000    53.803565\n",
       "10713       0       1        0  ...              3  0.000000    68.342400\n",
       "\n",
       "[10714 rows x 23 columns]"
      ]
     },
     "execution_count": 264,
     "metadata": {
      "tags": []
     },
     "output_type": "execute_result"
    }
   ],
   "source": [
    "data_clean"
   ]
  },
  {
   "cell_type": "code",
   "execution_count": null,
   "metadata": {
    "colab": {
     "base_uri": "https://localhost:8080/",
     "height": 527
    },
    "colab_type": "code",
    "id": "qb1jfJpemMCA",
    "outputId": "851455fc-af7d-4301-9658-797c4f3ca948"
   },
   "outputs": [
    {
     "data": {
      "image/png": "[encoded data removed]",
      "text/plain": [
       "<Figure size 842.4x595.44 with 1 Axes>"
      ]
     },
     "metadata": {
      "tags": []
     },
     "output_type": "display_data"
    }
   ],
   "source": [
    "# import the seaborn module\n",
    "import seaborn as sns\n",
    "# import the matplotlib module\n",
    "import matplotlib.pyplot as plt\n",
    "# set the background colour of the plot to white\n",
    "sns.set(style=\"whitegrid\", color_codes=True)\n",
    "# setting the plot size for all plots\n",
    "sns.set(rc={'figure.figsize':(11.7,8.27)})\n",
    "# create a countplot\n",
    "sns.countplot('Region',data=data_clean,hue = 'cases/1M')\n",
    "# Remove the top and down margin\n",
    "sns.despine(offset=10, trim=True)\n",
    "# display the plotplt.show()"
   ]
  },
  {
   "cell_type": "code",
   "execution_count": null,
   "metadata": {
    "colab": {},
    "colab_type": "code",
    "id": "zlncd0Tit437"
   },
   "outputs": [],
   "source": [
    "YT= ['Infect_Prob']"
   ]
  },
  {
   "cell_type": "code",
   "execution_count": null,
   "metadata": {
    "colab": {},
    "colab_type": "code",
    "id": "NsTPBxaTzHEH"
   },
   "outputs": [],
   "source": [
    "XT=['Region','Gender','Married','Children','Occupation','Mode_transport','cases/1M','Deaths/1M','comorbidity','Age','Coma score','Pulmonary score','cardiological pressure','Diuresis','Platelets','HBB','d-dimer','Heart rate','HDL cholesterol','Charlson Index','Blood Glucose','FT/month']"
   ]
  },
  {
   "cell_type": "code",
   "execution_count": null,
   "metadata": {
    "colab": {},
    "colab_type": "code",
    "id": "uccr9ze82Quf"
   },
   "outputs": [],
   "source": [
    "X = data_clean[XT]\n",
    "Y = data_clean[YT]"
   ]
  },
  {
   "cell_type": "code",
   "execution_count": null,
   "metadata": {
    "colab": {},
    "colab_type": "code",
    "id": "VM_eZZ__3VPx"
   },
   "outputs": [],
   "source": [
    "#import the necessary module\n",
    "from sklearn.model_selection import train_test_split\n",
    "#split data set into train and test sets\n",
    "X_train, X_test, Y_train, Y_test = train_test_split(X,Y, test_size = 0.30, random_state = 10)"
   ]
  },
  {
   "cell_type": "markdown",
   "metadata": {
    "colab_type": "text",
    "id": "-kuKCt5ft4bh"
   },
   "source": []
  },
  {
   "cell_type": "code",
   "execution_count": null,
   "metadata": {
    "colab": {},
    "colab_type": "code",
    "id": "Y_XNNPL7Akmd"
   },
   "outputs": [],
   "source": [
    "import keras\n",
    "from keras.preprocessing import sequence\n",
    "from keras.models import Sequential\n",
    "from keras.layers import Dense, Embedding\n",
    "from keras.layers import LSTM\n",
    "from keras.preprocessing.text import Tokenizer\n",
    "from keras.preprocessing.sequence import pad_sequences\n",
    "from keras.utils import to_categorical\n",
    "from keras.layers import Input, Flatten, Dropout, Activation\n",
    "from keras.layers import Conv1D,Conv2D, MaxPooling1D, AveragePooling1D, GlobalAveragePooling1D, MaxPooling2D, GlobalMaxPooling1D\n",
    "from keras.models import Model\n",
    "from keras.callbacks import ModelCheckpoint\n",
    "from sklearn.metrics import confusion_matrix\n",
    "from keras.models import *\n",
    "from keras.layers import *\n",
    "from keras.callbacks import *\n",
    "from keras.callbacks import Callback, TensorBoard, EarlyStopping"
   ]
  },
  {
   "cell_type": "code",
   "execution_count": null,
   "metadata": {
    "colab": {},
    "colab_type": "code",
    "id": "c3bRujdOyV34"
   },
   "outputs": [],
   "source": [
    "# Build Our Neural Network Model\n",
    "from keras.models import Sequential\n",
    "from keras.layers import Dense\n",
    "import numpy as np\n",
    "from keras import backend as K\n",
    "\n",
    "def r2_score(y_true,y_pred):\n",
    "    \n",
    "    \n",
    "    num = K.sum(K.square(y_true-y_pred))\n",
    "    denom = K.sum(K.square(y_true- K.mean(y_true)))\n",
    "    return (1-num/denom)\n",
    "\n",
    "def getModel():\n",
    "    model = Sequential()\n",
    "    model.add(Dense(128,activation='relu',input_shape=(22,)))\n",
    "    model.add(Dense(64,activation='relu',input_shape=(22,)))\n",
    "    model.add(Dense(32,activation='relu'))\n",
    "    model.add(Dense(16,activation='relu'))\n",
    "    model.add(Dense(8,activation='relu'))\n",
    "    model.add(Dense(1))\n",
    "    \n",
    "    model.compile(optimizer='adam',loss='mse',metrics=[r2_score])\n",
    "    return model\n",
    "    # model = Sequential()\n",
    "    # model.add(Conv1D(256, 5,padding='same',\n",
    "    #              input_shape=(7499,22,1)))\n",
    "    # model.add(Activation('relu'))\n",
    "    # model.add(Conv1D(128, 5,padding='same'))\n",
    "    # model.add(Activation('relu'))\n",
    "    # model.add(Dropout(0.1))\n",
    "    # model.add(AveragePooling1D(pool_size=(8)))\n",
    "    # model.add(Conv1D(128, 5,padding='same',))\n",
    "    # model.add(Activation('relu'))\n",
    "    # model.add(Conv1D(128, 5,padding='same',))\n",
    "    # model.add(Activation('relu')) \n",
    "    # model.add(Flatten())\n",
    "    # model.add(Dense(32))\n",
    "    # model.add(Dense(16))\n",
    "    # model.add(Dense(8))\n",
    "    # model.add(Dense(1))\n",
    "    # model.compile(optimizer='adam',loss='mse',metrics=[r2_score])\n",
    "    # return model"
   ]
  },
  {
   "cell_type": "code",
   "execution_count": null,
   "metadata": {
    "colab": {},
    "colab_type": "code",
    "id": "XD16Aj_HAmrU"
   },
   "outputs": [],
   "source": []
  },
  {
   "cell_type": "code",
   "execution_count": null,
   "metadata": {
    "colab": {
     "base_uri": "https://localhost:8080/",
     "height": 357
    },
    "colab_type": "code",
    "id": "18KWWD7JzDkw",
    "outputId": "d56f41d4-bf97-435d-b333-d9a7d13cc1db"
   },
   "outputs": [
    {
     "name": "stdout",
     "output_type": "stream",
     "text": [
      "Model: \"sequential_19\"\n",
      "_________________________________________________________________\n",
      "Layer (type)                 Output Shape              Param #   \n",
      "=================================================================\n",
      "dense_78 (Dense)             (None, 128)               2944      \n",
      "_________________________________________________________________\n",
      "dense_79 (Dense)             (None, 64)                8256      \n",
      "_________________________________________________________________\n",
      "dense_80 (Dense)             (None, 32)                2080      \n",
      "_________________________________________________________________\n",
      "dense_81 (Dense)             (None, 16)                528       \n",
      "_________________________________________________________________\n",
      "dense_82 (Dense)             (None, 8)                 136       \n",
      "_________________________________________________________________\n",
      "dense_83 (Dense)             (None, 1)                 9         \n",
      "=================================================================\n",
      "Total params: 13,953\n",
      "Trainable params: 13,953\n",
      "Non-trainable params: 0\n",
      "_________________________________________________________________\n"
     ]
    }
   ],
   "source": [
    "model = getModel()\n",
    "model.summary()"
   ]
  },
  {
   "cell_type": "code",
   "execution_count": null,
   "metadata": {
    "colab": {
     "base_uri": "https://localhost:8080/",
     "height": 1000
    },
    "colab_type": "code",
    "id": "cLVSHbYS3JBB",
    "outputId": "08929975-da72-477f-d529-9f90693a3f53"
   },
   "outputs": [
    {
     "name": "stdout",
     "output_type": "stream",
     "text": [
      "Train on 7499 samples, validate on 3215 samples\n",
      "Epoch 1/30\n",
      "7499/7499 [==============================] - 3s 350us/step - loss: 228.0698 - r2_score: -1.5233 - val_loss: 125.2008 - val_r2_score: -0.2271\n",
      "Epoch 2/30\n",
      "7499/7499 [==============================] - 1s 69us/step - loss: 123.9991 - r2_score: -0.2629 - val_loss: 113.8323 - val_r2_score: -0.1218\n",
      "Epoch 3/30\n",
      "7499/7499 [==============================] - 1s 70us/step - loss: 119.6424 - r2_score: -0.1777 - val_loss: 110.4174 - val_r2_score: -0.0873\n",
      "Epoch 4/30\n",
      "7499/7499 [==============================] - 1s 75us/step - loss: 116.3020 - r2_score: -0.1525 - val_loss: 107.4741 - val_r2_score: -0.0703\n",
      "Epoch 5/30\n",
      "7499/7499 [==============================] - 1s 70us/step - loss: 113.4084 - r2_score: -0.1711 - val_loss: 105.3521 - val_r2_score: -0.0146\n",
      "Epoch 6/30\n",
      "7499/7499 [==============================] - 0s 66us/step - loss: 113.0131 - r2_score: -0.1609 - val_loss: 102.8292 - val_r2_score: -0.0099\n",
      "Epoch 7/30\n",
      "7499/7499 [==============================] - 1s 75us/step - loss: 107.5232 - r2_score: -0.1179 - val_loss: 136.6905 - val_r2_score: -0.3304\n",
      "Epoch 8/30\n",
      "7499/7499 [==============================] - 1s 67us/step - loss: 106.8148 - r2_score: -0.0726 - val_loss: 100.6404 - val_r2_score: 0.0164\n",
      "Epoch 9/30\n",
      "7499/7499 [==============================] - 1s 78us/step - loss: 105.2919 - r2_score: -0.0454 - val_loss: 97.5553 - val_r2_score: 0.0395\n",
      "Epoch 10/30\n",
      "7499/7499 [==============================] - 1s 71us/step - loss: 103.4094 - r2_score: -0.0613 - val_loss: 98.8058 - val_r2_score: 0.0326\n",
      "Epoch 11/30\n",
      "7499/7499 [==============================] - 1s 77us/step - loss: 103.4202 - r2_score: -0.0144 - val_loss: 99.0630 - val_r2_score: 0.0393\n",
      "Epoch 12/30\n",
      "7499/7499 [==============================] - 1s 72us/step - loss: 100.4708 - r2_score: 0.0249 - val_loss: 96.1800 - val_r2_score: 0.0555\n",
      "Epoch 13/30\n",
      "7499/7499 [==============================] - 1s 70us/step - loss: 101.2914 - r2_score: -0.0366 - val_loss: 95.7209 - val_r2_score: 0.0251\n",
      "Epoch 14/30\n",
      "7499/7499 [==============================] - 1s 75us/step - loss: 98.9788 - r2_score: 0.0013 - val_loss: 95.2043 - val_r2_score: 0.0508\n",
      "Epoch 15/30\n",
      "7499/7499 [==============================] - 1s 72us/step - loss: 100.5687 - r2_score: -0.0392 - val_loss: 95.8670 - val_r2_score: 0.0135\n",
      "Epoch 16/30\n",
      "7499/7499 [==============================] - 1s 71us/step - loss: 96.5297 - r2_score: 0.0324 - val_loss: 98.6612 - val_r2_score: 0.0557\n",
      "Epoch 17/30\n",
      "7499/7499 [==============================] - 1s 71us/step - loss: 97.9171 - r2_score: 0.0444 - val_loss: 94.4551 - val_r2_score: 0.0256\n",
      "Epoch 18/30\n",
      "7499/7499 [==============================] - 1s 72us/step - loss: 97.1274 - r2_score: 0.0513 - val_loss: 125.6390 - val_r2_score: -0.4110\n",
      "Epoch 19/30\n",
      "7499/7499 [==============================] - 1s 77us/step - loss: 98.1266 - r2_score: 0.0276 - val_loss: 93.8470 - val_r2_score: 0.0706\n",
      "Epoch 20/30\n",
      "7499/7499 [==============================] - 1s 72us/step - loss: 98.5548 - r2_score: 0.0146 - val_loss: 94.8021 - val_r2_score: 0.0205\n",
      "Epoch 21/30\n",
      "7499/7499 [==============================] - 1s 75us/step - loss: 96.0460 - r2_score: 0.0152 - val_loss: 92.1785 - val_r2_score: 0.0880\n",
      "Epoch 22/30\n",
      "7499/7499 [==============================] - 1s 74us/step - loss: 95.8181 - r2_score: 0.0035 - val_loss: 91.8796 - val_r2_score: 0.0839\n",
      "Epoch 23/30\n",
      "7499/7499 [==============================] - 1s 76us/step - loss: 94.3532 - r2_score: 0.0377 - val_loss: 112.0492 - val_r2_score: -0.2665\n",
      "Epoch 24/30\n",
      "7499/7499 [==============================] - 1s 71us/step - loss: 96.5541 - r2_score: -0.0018 - val_loss: 92.2572 - val_r2_score: 0.0629\n",
      "Epoch 25/30\n",
      "7499/7499 [==============================] - 1s 73us/step - loss: 94.6795 - r2_score: 0.0111 - val_loss: 97.1396 - val_r2_score: 0.0210\n",
      "Epoch 26/30\n",
      "7499/7499 [==============================] - 1s 69us/step - loss: 95.6561 - r2_score: 0.0409 - val_loss: 92.5804 - val_r2_score: 0.0700\n",
      "Epoch 27/30\n",
      "7499/7499 [==============================] - 1s 70us/step - loss: 95.1995 - r2_score: 0.0418 - val_loss: 90.9964 - val_r2_score: 0.0970\n",
      "Epoch 28/30\n",
      "7499/7499 [==============================] - 1s 70us/step - loss: 94.8225 - r2_score: 0.0712 - val_loss: 106.6166 - val_r2_score: -0.0456\n",
      "Epoch 29/30\n",
      "7499/7499 [==============================] - 1s 79us/step - loss: 93.8430 - r2_score: 0.0300 - val_loss: 98.1897 - val_r2_score: 0.0550\n",
      "Epoch 30/30\n",
      "7499/7499 [==============================] - 1s 74us/step - loss: 92.8554 - r2_score: 0.0222 - val_loss: 92.5521 - val_r2_score: 0.0521\n"
     ]
    }
   ],
   "source": [
    "hist = model.fit(X_train,Y_train,epochs=30,validation_data=(X_test,Y_test),verbose=1)"
   ]
  },
  {
   "cell_type": "code",
   "execution_count": null,
   "metadata": {
    "colab": {
     "base_uri": "https://localhost:8080/",
     "height": 51
    },
    "colab_type": "code",
    "id": "vxihoF8x3NXw",
    "outputId": "dd281ad4-4871-49ce-8e6c-c702994f87c8"
   },
   "outputs": [
    {
     "name": "stdout",
     "output_type": "stream",
     "text": [
      "3215/3215 [==============================] - 0s 32us/step\n",
      "0.05210161646639763\n"
     ]
    }
   ],
   "source": [
    "r2_score = model.evaluate(X_test,Y_test)[1]\n",
    "print(r2_score)"
   ]
  },
  {
   "cell_type": "code",
   "execution_count": null,
   "metadata": {
    "colab": {
     "base_uri": "https://localhost:8080/",
     "height": 51
    },
    "colab_type": "code",
    "id": "mDh91NT6-CbW",
    "outputId": "027f0d4c-dbd1-4fdc-9449-a894bab2aea4"
   },
   "outputs": [
    {
     "name": "stdout",
     "output_type": "stream",
     "text": [
      "3215/3215 [==============================] - 0s 31us/step\n",
      "[92.55210103914489, 0.05210161646639763]\n"
     ]
    }
   ],
   "source": [
    "score = model.evaluate(X_test, Y_test,verbose=1)\n",
    "\n",
    "print(score)"
   ]
  },
  {
   "cell_type": "code",
   "execution_count": null,
   "metadata": {
    "colab": {},
    "colab_type": "code",
    "id": "rMTrhoZ56Ejq"
   },
   "outputs": [],
   "source": [
    "val_loss = hist.history['val_loss']\n",
    "train_loss = hist.history['loss']"
   ]
  },
  {
   "cell_type": "code",
   "execution_count": null,
   "metadata": {
    "colab": {
     "base_uri": "https://localhost:8080/",
     "height": 500
    },
    "colab_type": "code",
    "id": "F7tuL6d06JYY",
    "outputId": "62ca2a60-e9ed-4ea6-a9ab-e5e186cbb38e"
   },
   "outputs": [
    {
     "data": {
      "image/png": "[encoded data removed]",
      "text/plain": [
       "<Figure size 842.4x595.44 with 1 Axes>"
      ]
     },
     "metadata": {
      "tags": []
     },
     "output_type": "display_data"
    }
   ],
   "source": [
    "import matplotlib.pyplot as plt\n",
    "\n",
    "plt.plot(val_loss,label=\"Val Loss \")\n",
    "plt.plot(train_loss,label=\"Train Loss\")\n",
    "plt.legend()\n",
    "plt.show()"
   ]
  },
  {
   "cell_type": "code",
   "execution_count": null,
   "metadata": {
    "colab": {},
    "colab_type": "code",
    "id": "1EiXgxAH6MIR"
   },
   "outputs": [],
   "source": [
    "r2_score_train = hist.history['r2_score']\n",
    "r2_score_val = hist.history['val_r2_score']"
   ]
  },
  {
   "cell_type": "code",
   "execution_count": null,
   "metadata": {
    "colab": {
     "base_uri": "https://localhost:8080/",
     "height": 533
    },
    "colab_type": "code",
    "id": "PHZ_CsEv6QQD",
    "outputId": "d95820b9-d741-4cea-dd80-98f91cc350ea"
   },
   "outputs": [
    {
     "data": {
      "image/png": "[encoded data removed]",
      "text/plain": [
       "<Figure size 842.4x595.44 with 1 Axes>"
      ]
     },
     "metadata": {
      "tags": []
     },
     "output_type": "display_data"
    }
   ],
   "source": [
    "plt.plot(r2_score_train,label=\"Train Score\")\n",
    "plt.plot(r2_score_val,label=\"Val Score\")\n",
    "plt.legend()\n",
    "plt.title(\"R2 score\")\n",
    "plt.xlabel(\"Epochs\")\n",
    "plt.ylabel(\"R2 score\")\n",
    "plt.show()"
   ]
  },
  {
   "cell_type": "code",
   "execution_count": null,
   "metadata": {
    "colab": {},
    "colab_type": "code",
    "id": "m4fo3m5l_7co"
   },
   "outputs": [],
   "source": [
    "y_pred=model.predict(X_test)"
   ]
  },
  {
   "cell_type": "code",
   "execution_count": null,
   "metadata": {
    "colab": {
     "base_uri": "https://localhost:8080/",
     "height": 419
    },
    "colab_type": "code",
    "id": "4xue6mPeC20O",
    "outputId": "0e614a9e-6c04-4504-c44e-e6df807bec05"
   },
   "outputs": [
    {
     "data": {
      "text/html": [
       "<div>\n",
       "<style scoped>\n",
       "    .dataframe tbody tr th:only-of-type {\n",
       "        vertical-align: middle;\n",
       "    }\n",
       "\n",
       "    .dataframe tbody tr th {\n",
       "        vertical-align: top;\n",
       "    }\n",
       "\n",
       "    .dataframe thead th {\n",
       "        text-align: right;\n",
       "    }\n",
       "</style>\n",
       "<table border=\"1\" class=\"dataframe\">\n",
       "  <thead>\n",
       "    <tr style=\"text-align: right;\">\n",
       "      <th></th>\n",
       "      <th>Infect_Prob</th>\n",
       "    </tr>\n",
       "  </thead>\n",
       "  <tbody>\n",
       "    <tr>\n",
       "      <th>9608</th>\n",
       "      <td>53.495323</td>\n",
       "    </tr>\n",
       "    <tr>\n",
       "      <th>4512</th>\n",
       "      <td>47.999307</td>\n",
       "    </tr>\n",
       "    <tr>\n",
       "      <th>6105</th>\n",
       "      <td>90.797760</td>\n",
       "    </tr>\n",
       "    <tr>\n",
       "      <th>8219</th>\n",
       "      <td>48.284109</td>\n",
       "    </tr>\n",
       "    <tr>\n",
       "      <th>5871</th>\n",
       "      <td>47.901891</td>\n",
       "    </tr>\n",
       "    <tr>\n",
       "      <th>...</th>\n",
       "      <td>...</td>\n",
       "    </tr>\n",
       "    <tr>\n",
       "      <th>8377</th>\n",
       "      <td>48.702419</td>\n",
       "    </tr>\n",
       "    <tr>\n",
       "      <th>336</th>\n",
       "      <td>49.318958</td>\n",
       "    </tr>\n",
       "    <tr>\n",
       "      <th>1151</th>\n",
       "      <td>66.389760</td>\n",
       "    </tr>\n",
       "    <tr>\n",
       "      <th>2542</th>\n",
       "      <td>38.076480</td>\n",
       "    </tr>\n",
       "    <tr>\n",
       "      <th>5885</th>\n",
       "      <td>50.132495</td>\n",
       "    </tr>\n",
       "  </tbody>\n",
       "</table>\n",
       "<p>3215 rows × 1 columns</p>\n",
       "</div>"
      ],
      "text/plain": [
       "      Infect_Prob\n",
       "9608    53.495323\n",
       "4512    47.999307\n",
       "6105    90.797760\n",
       "8219    48.284109\n",
       "5871    47.901891\n",
       "...           ...\n",
       "8377    48.702419\n",
       "336     49.318958\n",
       "1151    66.389760\n",
       "2542    38.076480\n",
       "5885    50.132495\n",
       "\n",
       "[3215 rows x 1 columns]"
      ]
     },
     "execution_count": 416,
     "metadata": {
      "tags": []
     },
     "output_type": "execute_result"
    }
   ],
   "source": [
    "Y_test"
   ]
  },
  {
   "cell_type": "code",
   "execution_count": null,
   "metadata": {
    "colab": {},
    "colab_type": "code",
    "id": "T_OiBcpGDDKA"
   },
   "outputs": [],
   "source": [
    "y = pd.DataFrame( y_pred)"
   ]
  },
  {
   "cell_type": "code",
   "execution_count": null,
   "metadata": {
    "colab": {
     "base_uri": "https://localhost:8080/",
     "height": 419
    },
    "colab_type": "code",
    "id": "DUMqc7BUDKn1",
    "outputId": "775bd4f0-e41b-4f4e-eade-326a0d2d74d5"
   },
   "outputs": [
    {
     "data": {
      "text/html": [
       "<div>\n",
       "<style scoped>\n",
       "    .dataframe tbody tr th:only-of-type {\n",
       "        vertical-align: middle;\n",
       "    }\n",
       "\n",
       "    .dataframe tbody tr th {\n",
       "        vertical-align: top;\n",
       "    }\n",
       "\n",
       "    .dataframe thead th {\n",
       "        text-align: right;\n",
       "    }\n",
       "</style>\n",
       "<table border=\"1\" class=\"dataframe\">\n",
       "  <thead>\n",
       "    <tr style=\"text-align: right;\">\n",
       "      <th></th>\n",
       "      <th>0</th>\n",
       "    </tr>\n",
       "  </thead>\n",
       "  <tbody>\n",
       "    <tr>\n",
       "      <th>0</th>\n",
       "      <td>59.403625</td>\n",
       "    </tr>\n",
       "    <tr>\n",
       "      <th>1</th>\n",
       "      <td>50.249390</td>\n",
       "    </tr>\n",
       "    <tr>\n",
       "      <th>2</th>\n",
       "      <td>61.593082</td>\n",
       "    </tr>\n",
       "    <tr>\n",
       "      <th>3</th>\n",
       "      <td>45.873444</td>\n",
       "    </tr>\n",
       "    <tr>\n",
       "      <th>4</th>\n",
       "      <td>50.958164</td>\n",
       "    </tr>\n",
       "    <tr>\n",
       "      <th>...</th>\n",
       "      <td>...</td>\n",
       "    </tr>\n",
       "    <tr>\n",
       "      <th>3210</th>\n",
       "      <td>55.266125</td>\n",
       "    </tr>\n",
       "    <tr>\n",
       "      <th>3211</th>\n",
       "      <td>44.269623</td>\n",
       "    </tr>\n",
       "    <tr>\n",
       "      <th>3212</th>\n",
       "      <td>71.194725</td>\n",
       "    </tr>\n",
       "    <tr>\n",
       "      <th>3213</th>\n",
       "      <td>58.814323</td>\n",
       "    </tr>\n",
       "    <tr>\n",
       "      <th>3214</th>\n",
       "      <td>60.037418</td>\n",
       "    </tr>\n",
       "  </tbody>\n",
       "</table>\n",
       "<p>3215 rows × 1 columns</p>\n",
       "</div>"
      ],
      "text/plain": [
       "              0\n",
       "0     59.403625\n",
       "1     50.249390\n",
       "2     61.593082\n",
       "3     45.873444\n",
       "4     50.958164\n",
       "...         ...\n",
       "3210  55.266125\n",
       "3211  44.269623\n",
       "3212  71.194725\n",
       "3213  58.814323\n",
       "3214  60.037418\n",
       "\n",
       "[3215 rows x 1 columns]"
      ]
     },
     "execution_count": 415,
     "metadata": {
      "tags": []
     },
     "output_type": "execute_result"
    }
   ],
   "source": [
    "y"
   ]
  },
  {
   "cell_type": "code",
   "execution_count": null,
   "metadata": {
    "colab": {},
    "colab_type": "code",
    "id": "4gD9V1-GFOTg"
   },
   "outputs": [],
   "source": []
  }
 ],
 "metadata": {
  "colab": {
   "collapsed_sections": [],
   "name": "CONVID-19.ipynb",
   "provenance": [],
   "toc_visible": true
  },
  "kernelspec": {
   "display_name": "Python 3",
   "language": "python",
   "name": "python3"
  },
  "language_info": {
   "codemirror_mode": {
    "name": "ipython",
    "version": 3
   },
   "file_extension": ".py",
   "mimetype": "text/x-python",
   "name": "python",
   "nbconvert_exporter": "python",
   "pygments_lexer": "ipython3",
   "version": "3.7.0"
  }
 },
 "nbformat": 4,
 "nbformat_minor": 4
}
